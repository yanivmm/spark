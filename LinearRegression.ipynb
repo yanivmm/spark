{
 "cells": [
  {
   "cell_type": "code",
   "execution_count": 1,
   "metadata": {},
   "outputs": [],
   "source": [
    "import findspark\n",
    "findspark.init('/home/yaniv/spark-3.0.0-preview2-bin-hadoop2.7')\n",
    "import pyspark\n",
    "from pyspark.sql import SparkSession\n",
    "spark = SparkSession.builder.appName('Lin_reg').getOrCreate()\n",
    "df = spark.read.csv('cruise_ship_info.csv',inferSchema=True,header=True)"
   ]
  },
  {
   "cell_type": "code",
   "execution_count": 18,
   "metadata": {},
   "outputs": [],
   "source": [
    "from pyspark.ml.regression import LinearRegression\n",
    "from pyspark.ml.feature import StringIndexer,OneHotEncoder,VectorAssembler"
   ]
  },
  {
   "cell_type": "code",
   "execution_count": null,
   "metadata": {},
   "outputs": [],
   "source": []
  },
  {
   "cell_type": "code",
   "execution_count": null,
   "metadata": {},
   "outputs": [],
   "source": []
  },
  {
   "cell_type": "code",
   "execution_count": 7,
   "metadata": {},
   "outputs": [],
   "source": [
    "ind = StringIndexer(inputCol='Cruise_line',outputCol='lineIdx')\n",
    "#vec = OneHotEncoder(inputCol='lineIdx',outputCol='cruiseLineVec')\n",
    "indexed = ind.fit(df).transform(df)\n",
    "feat = VectorAssembler(inputCols=['lineIdx','Age','Tonnage',\n",
    "            'passengers','length','cabins','passenger_density','crew']\n",
    "                       ,outputCol='features')\n",
    "output = feat.transform(indexed)"
   ]
  },
  {
   "cell_type": "code",
   "execution_count": 8,
   "metadata": {},
   "outputs": [],
   "source": [
    "train,test = output.randomSplit([0.7,0.3])"
   ]
  },
  {
   "cell_type": "code",
   "execution_count": 9,
   "metadata": {},
   "outputs": [],
   "source": [
    "lr = LinearRegression(labelCol='crew')\n",
    "lr = lr.fit(train)\n",
    "results = lr.evaluate(test)"
   ]
  },
  {
   "cell_type": "code",
   "execution_count": 6,
   "metadata": {},
   "outputs": [
    {
     "name": "stdout",
     "output_type": "stream",
     "text": [
      "+--------------------+\n",
      "|           residuals|\n",
      "+--------------------+\n",
      "|-2.30926389122032...|\n",
      "|-2.49800180540660...|\n",
      "|7.105427357601002...|\n",
      "|-2.66453525910037...|\n",
      "|3.552713678800501...|\n",
      "|1.776356839400250...|\n",
      "|-1.59872115546022...|\n",
      "|1.509903313490213...|\n",
      "|                 0.0|\n",
      "|-5.32907051820075...|\n",
      "|8.881784197001252...|\n",
      "|3.552713678800501...|\n",
      "|-8.88178419700125...|\n",
      "|-2.48689957516035...|\n",
      "|-8.88178419700125...|\n",
      "|-3.28626015289046...|\n",
      "|-2.44249065417534...|\n",
      "|5.329070518200751...|\n",
      "|-4.44089209850062...|\n",
      "|                 0.0|\n",
      "+--------------------+\n",
      "only showing top 20 rows\n",
      "\n"
     ]
    }
   ],
   "source": [
    "results.residuals.show()"
   ]
  },
  {
   "cell_type": "code",
   "execution_count": 10,
   "metadata": {},
   "outputs": [
    {
     "data": {
      "text/plain": [
       "1.1280548611355359e-15"
      ]
     },
     "execution_count": 10,
     "metadata": {},
     "output_type": "execute_result"
    }
   ],
   "source": [
    "results.rootMeanSquaredError"
   ]
  },
  {
   "cell_type": "raw",
   "metadata": {},
   "source": [
    "     "
   ]
  },
  {
   "cell_type": "code",
   "execution_count": 11,
   "metadata": {},
   "outputs": [
    {
     "data": {
      "text/plain": [
       "6.449867095441385e-16"
      ]
     },
     "execution_count": 11,
     "metadata": {},
     "output_type": "execute_result"
    }
   ],
   "source": [
    "results.meanAbsoluteError"
   ]
  },
  {
   "cell_type": "code",
   "execution_count": 12,
   "metadata": {},
   "outputs": [
    {
     "data": {
      "text/plain": [
       "1.0"
      ]
     },
     "execution_count": 12,
     "metadata": {},
     "output_type": "execute_result"
    }
   ],
   "source": [
    "results.r2"
   ]
  },
  {
   "cell_type": "code",
   "execution_count": 13,
   "metadata": {},
   "outputs": [],
   "source": [
    "unlabeled = test.select('features')"
   ]
  },
  {
   "cell_type": "code",
   "execution_count": 15,
   "metadata": {},
   "outputs": [],
   "source": [
    "pred = lr.transform(unlabeled)"
   ]
  },
  {
   "cell_type": "code",
   "execution_count": 16,
   "metadata": {},
   "outputs": [
    {
     "name": "stdout",
     "output_type": "stream",
     "text": [
      "+--------------------+------------------+\n",
      "|            features|        prediction|\n",
      "+--------------------+------------------+\n",
      "|[8.0,29.0,45.0,11...|               5.2|\n",
      "|[8.0,13.0,76.0,18...|               8.5|\n",
      "|[1.0,26.0,47.262,...| 6.699999999999999|\n",
      "|[1.0,11.0,110.0,2...|19.099999999999998|\n",
      "|[6.0,11.0,91.0,20...|              9.99|\n",
      "|[4.0,25.0,34.25,1...|               4.7|\n",
      "|[4.0,11.0,90.0,22...|10.999999999999998|\n",
      "|[1.0,22.0,70.367,...|               9.2|\n",
      "|[2.0,6.0,113.0,37...|              12.0|\n",
      "|[7.0,5.0,133.5,39...|             13.13|\n",
      "|[1.0,23.0,70.367,...|               9.2|\n",
      "|[1.0,19.0,70.367,...|               9.2|\n",
      "|[1.0,6.0,110.2389...|11.499999999999998|\n",
      "|[0.0,7.0,158.0,43...|              13.6|\n",
      "|[9.0,21.0,19.093,...|               4.7|\n",
      "|[2.0,15.0,108.806...|11.099999999999998|\n",
      "|[1.0,28.0,46.052,...| 6.599999999999999|\n",
      "|[16.0,6.0,30.2769...|3.5500000000000007|\n",
      "|[7.0,10.0,58.825,...|               7.0|\n",
      "|[18.0,15.0,83.338...| 9.450000000000001|\n",
      "+--------------------+------------------+\n",
      "only showing top 20 rows\n",
      "\n"
     ]
    }
   ],
   "source": [
    "pred.show()"
   ]
  }
 ],
 "metadata": {
  "kernelspec": {
   "display_name": "Python 3",
   "language": "python",
   "name": "python3"
  },
  "language_info": {
   "codemirror_mode": {
    "name": "ipython",
    "version": 3
   },
   "file_extension": ".py",
   "mimetype": "text/x-python",
   "name": "python",
   "nbconvert_exporter": "python",
   "pygments_lexer": "ipython3",
   "version": "3.8.2"
  }
 },
 "nbformat": 4,
 "nbformat_minor": 4
}
